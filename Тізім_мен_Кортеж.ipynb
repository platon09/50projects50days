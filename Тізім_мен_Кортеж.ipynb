{
  "nbformat": 4,
  "nbformat_minor": 0,
  "metadata": {
    "colab": {
      "name": "Тізім мен Кортеж.ipynb",
      "provenance": [],
      "collapsed_sections": [],
      "authorship_tag": "ABX9TyN2RnG0ucjn7mco+tv7AR4l",
      "include_colab_link": true
    },
    "kernelspec": {
      "name": "python3",
      "display_name": "Python 3"
    },
    "language_info": {
      "name": "python"
    }
  },
  "cells": [
    {
      "cell_type": "markdown",
      "metadata": {
        "id": "view-in-github",
        "colab_type": "text"
      },
      "source": [
        "<a href=\"https://colab.research.google.com/github/platon09/50projects50days/blob/master/%D0%A2%D1%96%D0%B7%D1%96%D0%BC_%D0%BC%D0%B5%D0%BD_%D0%9A%D0%BE%D1%80%D1%82%D0%B5%D0%B6.ipynb\" target=\"_parent\"><img src=\"https://colab.research.google.com/assets/colab-badge.svg\" alt=\"Open In Colab\"/></a>"
      ]
    },
    {
      "cell_type": "markdown",
      "metadata": {
        "id": "BnubLD5zSe8H"
      },
      "source": [
        "# Тізім тік жақшамен немесе кіріктірілген list() функциясы арқылы жасаса болады"
      ]
    },
    {
      "cell_type": "code",
      "metadata": {
        "id": "vugo1VxAIumF",
        "colab": {
          "base_uri": "https://localhost:8080/"
        },
        "outputId": "3ba6592c-502e-4407-90aa-9846e414ad06"
      },
      "source": [
        "list_1 = [\"banana\", \"cherry\", \"apple\"]\n",
        "print(list_1)\n",
        "\n",
        "# Немесе бос list функциясы арқылы жасасақ болады, бірақ ол кезде біз бос тізім жасаймыз\n",
        "list_2 = list()\n",
        "print(list_2)\n",
        "\n",
        "# былайда істесек болады, бос емес тізім жасағымыз келсек, бірақ бұл тупизм болады\n",
        "lst = list([1, 2, 3])\n",
        "print(lst)"
      ],
      "execution_count": null,
      "outputs": [
        {
          "output_type": "stream",
          "text": [
            "['banana', 'cherry', 'apple']\n",
            "[]\n",
            "[1, 2, 3]\n"
          ],
          "name": "stdout"
        }
      ]
    },
    {
      "cell_type": "code",
      "metadata": {
        "colab": {
          "base_uri": "https://localhost:8080/"
        },
        "id": "jXc3sgbqN7vW",
        "outputId": "3296d646-3ac2-4859-e61f-4c31c6d28c80"
      },
      "source": [
        "# Тізім кез-келген түрдегі(тип) деректерді сақтай береді\n",
        "list_3 = [2, 2, 3, 1.5, [], [1, 2, 3, True], [[1.2, 'Soz'], [1, 4], 111]]\n",
        "print(list_3)"
      ],
      "execution_count": null,
      "outputs": [
        {
          "output_type": "stream",
          "text": [
            "[2, 2, 3, 1.5, [], [1, 2, 3, True], [[1.2, 'Soz'], [1, 4], 111]]\n"
          ],
          "name": "stdout"
        }
      ]
    },
    {
      "cell_type": "code",
      "metadata": {
        "id": "53LKJKLnI94p",
        "colab": {
          "base_uri": "https://localhost:8080/"
        },
        "outputId": "fb7cdb25-d573-4178-bd44-d3830f82d3eb"
      },
      "source": [
        "# Тізім ұқсас деректерді сақтай береді\n",
        "list_4 = [0, 0, 1, 1, 'alma', 'alma']\n",
        "print(list_4)"
      ],
      "execution_count": null,
      "outputs": [
        {
          "output_type": "stream",
          "text": [
            "[0, 0, 1, 1, 'alma', 'alma']\n"
          ],
          "name": "stdout"
        }
      ]
    },
    {
      "cell_type": "markdown",
      "metadata": {
        "id": "QMqCMpQrUHC9"
      },
      "source": [
        "# Тізімнің элементтерін(ішінде сақталып тұрған деректерді) индексі арқылы ала аласыз. Есте болсын индекс нөлден басталады."
      ]
    },
    {
      "cell_type": "code",
      "metadata": {
        "id": "ncZyPePfJB4Y",
        "colab": {
          "base_uri": "https://localhost:8080/"
        },
        "outputId": "afcf65f5-c65d-44a8-b9c9-00a31f40d423"
      },
      "source": [
        "item = list_1[0] # біз ең басында жасалған тізімнің бірінші элементтін алып жатырмыз, ол banana болатын.\n",
        "print(item)\n",
        "\n",
        "# сонымен қатар теріс сандарды индекс ретінде қолдансақ болады, \n",
        "# мысалы n элементтен тұратын 'tizim' деп аталатын тізімнің соңғы элементтін алу үшін\n",
        "# біз tizim[n-1] демей, tizim[-1] десек болады\n",
        "# соңынан алар болсақ минус сандар қолданамыз, ал соңынан санағанда екінші тұрған элементті\n",
        "# алғымыз келсе -2 дейміз, солай кете береді. Яғни артынан санайтын болсақ индекс -1 ден басталады\n",
        "# ал өсу ретімен, әдеттегідей болса 0-ден бастаймыз индексті\n",
        "#    0, 1, 2, 3, 4, 5, 6, 7, 8, 9 әдеттегі индекстің реті\n",
        "#  -10 -9 -8 -7 -6 -5 -4 -3 -2  -1 ал мынау артынан индексті санар болсақ\n",
        "\n",
        "a = [1, 2, 3, 4, 5, 6, 7, 8, 9, 10]\n",
        "\n",
        "item = a[9]\n",
        "item2 = a[-1]\n",
        "print(item, item2) # екеуіде соңғы элементті шығарады"
      ],
      "execution_count": null,
      "outputs": [
        {
          "output_type": "stream",
          "text": [
            "banana\n",
            "10 10\n"
          ],
          "name": "stdout"
        }
      ]
    },
    {
      "cell_type": "code",
      "metadata": {
        "id": "kEE-aQJMJmpK",
        "colab": {
          "base_uri": "https://localhost:8080/"
        },
        "outputId": "70bd07ca-475f-43f2-f9b1-0b2b937d50b3"
      },
      "source": [
        "# Тағы бір мысал\n",
        "list_1 = [1, 2, 3, 4, 5, 6, 7, 8, 9, 10]\n",
        "item = list_1[-3]\n",
        "print(item)"
      ],
      "execution_count": null,
      "outputs": [
        {
          "output_type": "stream",
          "text": [
            "8\n"
          ],
          "name": "stdout"
        }
      ]
    },
    {
      "cell_type": "code",
      "metadata": {
        "id": "d5-LZzIvJu0u",
        "colab": {
          "base_uri": "https://localhost:8080/"
        },
        "outputId": "e4f2f0bc-ffdb-4eb8-e7e8-3ab50a05ce9d"
      },
      "source": [
        "# Лист жасалған соң, оның элементтерін ауыстыра аламыз\n",
        "list_1[-3] = \"lemon\"\n",
        "list_1[1] = 'eki'\n",
        "print(list_1)"
      ],
      "execution_count": null,
      "outputs": [
        {
          "output_type": "stream",
          "text": [
            "[1, 'eki', 3, 4, 5, 6, 7, 'lemon', 9, 10]\n"
          ],
          "name": "stdout"
        }
      ]
    },
    {
      "cell_type": "markdown",
      "metadata": {
        "id": "mNKsvKYcKNVE"
      },
      "source": [
        "# Пайдалы методтар(функциялар)"
      ]
    },
    {
      "cell_type": "code",
      "metadata": {
        "id": "SrE1t81kKOTI"
      },
      "source": [
        "my_list = [\"banana\", \"cherry\", \"apple\"] "
      ],
      "execution_count": null,
      "outputs": []
    },
    {
      "cell_type": "code",
      "metadata": {
        "id": "7u6Vnd0FKRKX",
        "colab": {
          "base_uri": "https://localhost:8080/"
        },
        "outputId": "8d2fdc72-daf7-42f7-91c5-5222e0e8d14b"
      },
      "source": [
        "# len() : тізім ішіндегі элементтердің санын қайтарады    LENGTH\n",
        "print(\"Length: \", len(my_list))"
      ],
      "execution_count": null,
      "outputs": [
        {
          "output_type": "stream",
          "text": [
            "Length:  3\n"
          ],
          "name": "stdout"
        }
      ]
    },
    {
      "cell_type": "code",
      "metadata": {
        "id": "PtLWMRIpKTFT",
        "colab": {
          "base_uri": "https://localhost:8080/"
        },
        "outputId": "0bedf4f7-9090-4362-c7c6-08904b4e9e46"
      },
      "source": [
        "# append() : тізім соңына элемент қосып береді\n",
        "my_list.append(\"orange\")\n",
        "print(my_list)"
      ],
      "execution_count": null,
      "outputs": [
        {
          "output_type": "stream",
          "text": [
            "['banana', 'cherry', 'apple', 'orange']\n"
          ],
          "name": "stdout"
        }
      ]
    },
    {
      "cell_type": "code",
      "metadata": {
        "id": "qr6BeQ7TKU_9",
        "colab": {
          "base_uri": "https://localhost:8080/"
        },
        "outputId": "31cf40ef-576f-413c-8493-c1a5a3bd6195"
      },
      "source": [
        "# insert() : нақты бір жерге элементті қыстырып қоса аласыз\n",
        "my_list.insert(1, \"potato\") # 2 орынға картопты қояйық\n",
        "print(my_list)"
      ],
      "execution_count": null,
      "outputs": [
        {
          "output_type": "stream",
          "text": [
            "['banana', 'potato', 'cherry', 'apple', 'orange']\n"
          ],
          "name": "stdout"
        }
      ]
    },
    {
      "cell_type": "code",
      "metadata": {
        "id": "xye5x71wKXvh",
        "colab": {
          "base_uri": "https://localhost:8080/"
        },
        "outputId": "c1374d4b-e3e6-4f7c-93a9-b097ad702839"
      },
      "source": [
        "# pop() : соңғы тұрған элементті жояды және қайтарып береді, сондықтан біз оны жою барысында бір айнымалыға меншіктеп сақтап алсақ болады\n",
        "item = my_list.pop() # жою сәті және жойылған элементті сақтап алдық\n",
        "print(my_list) # соңғы элементті жойылған тізім\n",
        "print(\"Popped item: \", item) # жойылған элемент"
      ],
      "execution_count": null,
      "outputs": [
        {
          "output_type": "stream",
          "text": [
            "['banana', 'potato', 'cherry', 'apple']\n",
            "Popped item:  orange\n"
          ],
          "name": "stdout"
        }
      ]
    },
    {
      "cell_type": "code",
      "metadata": {
        "id": "huEdaHvVKgBa",
        "colab": {
          "base_uri": "https://localhost:8080/"
        },
        "outputId": "73cbf21d-24d3-4d84-89f2-f2c5ca426d82"
      },
      "source": [
        "# remove() : элементті жояды, ескеру керек егер жойғымыз келген элемент екеу не оданда көп болса, біріншісін ғана жояды\n",
        "my_list.remove(\"cherry\") # cherry-ді тізімнен жойып жатырқ\n",
        "print(my_list)"
      ],
      "execution_count": null,
      "outputs": [
        {
          "output_type": "stream",
          "text": [
            "['banana', 'potato', 'apple']\n"
          ],
          "name": "stdout"
        }
      ]
    },
    {
      "cell_type": "code",
      "metadata": {
        "id": "e0AYApUNKjAk",
        "colab": {
          "base_uri": "https://localhost:8080/"
        },
        "outputId": "190ca230-e577-4139-a9e0-59ec5cc09fab"
      },
      "source": [
        "# clear() : бұл барлығын жояды, ештеңе қалдырмайды\n",
        "my_list.clear()\n",
        "print(my_list) # дым қалмад"
      ],
      "execution_count": null,
      "outputs": [
        {
          "output_type": "stream",
          "text": [
            "[]\n"
          ],
          "name": "stdout"
        }
      ]
    },
    {
      "cell_type": "code",
      "metadata": {
        "id": "rKHRhwAWKn2w",
        "colab": {
          "base_uri": "https://localhost:8080/"
        },
        "outputId": "08c57975-78df-4b59-c174-bb2c19dab326"
      },
      "source": [
        "# reverse() : тізім элементтерін кері айналдырады\n",
        "my_list = [\"banana\", \"cherry\", \"apple\"]\n",
        "print('Before reversing: ', my_list)\n",
        "my_list.reverse()\n",
        "print('Reversed:         ', my_list)"
      ],
      "execution_count": null,
      "outputs": [
        {
          "output_type": "stream",
          "text": [
            "Before reversing:  ['banana', 'cherry', 'apple']\n",
            "Reversed:          ['apple', 'cherry', 'banana']\n"
          ],
          "name": "stdout"
        }
      ]
    },
    {
      "cell_type": "code",
      "metadata": {
        "colab": {
          "base_uri": "https://localhost:8080/"
        },
        "id": "JrAeUlY3Zi8I",
        "outputId": "4e9f7e94-0341-43c8-d63a-76805a975c91"
      },
      "source": [
        "# reversed() : осындай да бар бірақ ол сәтте ғана аударады, яғни аударылу сақталмайд\n",
        "my_list = [\"banana\", \"cherry\", \"apple\"]\n",
        "print(reversed(my_list))\n",
        "print(list(reversed(my_list)))\n",
        "print(my_list)\n",
        "\n",
        "# оны сақтау үшін, бір айнымалыға меншіктейміз, жалпы бұның бәрі артық жұмыс reverse() деген әлдеқайда артық\n",
        "# біз бұны былайда айтсақ болады, жаңа аударылған тізім алу үшін деп\n",
        "reversed_list = list(reversed(my_list))\n",
        "print(\"Reversed list: \", reversed_list)"
      ],
      "execution_count": null,
      "outputs": [
        {
          "output_type": "stream",
          "text": [
            "<list_reverseiterator object at 0x7fe73fc2a110>\n",
            "['apple', 'cherry', 'banana']\n",
            "['banana', 'cherry', 'apple']\n",
            "Reversed list:  ['apple', 'cherry', 'banana']\n"
          ],
          "name": "stdout"
        }
      ]
    },
    {
      "cell_type": "code",
      "metadata": {
        "id": "lqYoLvRUKpxk",
        "colab": {
          "base_uri": "https://localhost:8080/"
        },
        "outputId": "c09e07e5-fab4-4c5f-c815-f9862a8b8af2"
      },
      "source": [
        "# sort() : ASCII коды бойынша сұрыптап береді\n",
        "my_list = ['cherry','apple', 'banana', 'Zapple']\n",
        "my_list.sort()\n",
        "print('Sorted: ', my_list)"
      ],
      "execution_count": null,
      "outputs": [
        {
          "output_type": "stream",
          "text": [
            "Sorted:  ['Zapple', 'apple', 'banana', 'cherry']\n"
          ],
          "name": "stdout"
        }
      ]
    },
    {
      "cell_type": "code",
      "metadata": {
        "id": "G2EZ2hNeKsCf",
        "colab": {
          "base_uri": "https://localhost:8080/"
        },
        "outputId": "9d10c5b4-6404-47a1-ab1b-5fa6c997cac6"
      },
      "source": [
        "# sorted() : түпнұсқа тізімге әсер етпей, жаңа сұрыпталған тізім алу үшін;\n",
        "# reversed() сияқты\n",
        "my_list = [\"banana\", \"cherry\", \"apple\"]\n",
        "new_list = sorted(my_list)\n",
        "print(new_list)\n",
        "print(my_list)"
      ],
      "execution_count": null,
      "outputs": [
        {
          "output_type": "stream",
          "text": [
            "['apple', 'banana', 'cherry']\n",
            "['banana', 'cherry', 'apple']\n"
          ],
          "name": "stdout"
        }
      ]
    },
    {
      "cell_type": "code",
      "metadata": {
        "id": "kphjbxrYKwr5",
        "colab": {
          "base_uri": "https://localhost:8080/"
        },
        "outputId": "47cb67b0-61e3-4bc3-c497-6acb7eaed47e"
      },
      "source": [
        "# қайталанған элементтері бар тізім жасай аламыз\n",
        "list_with_zeros = [0] * 10\n",
        "print(list_with_zeros)\n",
        "print(len(list_with_zeros))"
      ],
      "execution_count": null,
      "outputs": [
        {
          "output_type": "stream",
          "text": [
            "[0, 0, 0, 0, 0, 0, 0, 0, 0, 0]\n",
            "10\n"
          ],
          "name": "stdout"
        }
      ]
    },
    {
      "cell_type": "code",
      "metadata": {
        "id": "CYuyTDr8K61o",
        "colab": {
          "base_uri": "https://localhost:8080/"
        },
        "outputId": "78111aab-6447-470a-c9f5-41474e74ae41"
      },
      "source": [
        "# тізімдерді біріктіре аламыз\n",
        "list_concat = list_with_zeros + my_list\n",
        "print(list_concat)"
      ],
      "execution_count": null,
      "outputs": [
        {
          "output_type": "stream",
          "text": [
            "[0, 0, 0, 0, 0, 0, 0, 0, 0, 0, 'banana', 'cherry', 'apple']\n"
          ],
          "name": "stdout"
        }
      ]
    },
    {
      "cell_type": "code",
      "metadata": {
        "id": "zqW2dwuPLKrj",
        "colab": {
          "base_uri": "https://localhost:8080/"
        },
        "outputId": "55bda8a6-20af-4c1c-a6ab-a21a74447907"
      },
      "source": [
        "# string түріндегі мәнді тізіге айналдыра аламыз \n",
        "string_to_list = list('Сәлем, Әлем!')\n",
        "print(string_to_list)"
      ],
      "execution_count": null,
      "outputs": [
        {
          "output_type": "stream",
          "text": [
            "['С', 'ә', 'л', 'е', 'м', ',', ' ', 'Ә', 'л', 'е', 'м', '!']\n"
          ],
          "name": "stdout"
        }
      ]
    },
    {
      "cell_type": "markdown",
      "metadata": {
        "id": "4j46sC7rLaxB"
      },
      "source": [
        "# Тізімдердің көшірмесін жасау"
      ]
    },
    {
      "cell_type": "code",
      "metadata": {
        "id": "HRhjHIbaLcuZ"
      },
      "source": [
        "list_org = [\"banana\", \"cherry\", \"apple\"]"
      ],
      "execution_count": null,
      "outputs": []
    },
    {
      "cell_type": "code",
      "metadata": {
        "id": "Gj3exSiQLfm4"
      },
      "source": [
        "# төмендегі жоғарыдағы тізімге тек жаңа сілтеме жасайды, яғни біз оның клонын емес, жаңа есімін жасап жатырмыз\n",
        "# мысалы мен дүниеге келгенде Мұқаммедәли деген атым болды, кейін еркелетіп Әлекө деп атады\n",
        "# бұл жерде тағы бір менің көшірмем пайда болған жоқ, жәй ғана менің екінші атым пайда болды\n",
        "# енді мені осы екі аттың кез-келгенімен шақыра алады\n",
        "# сондықтан төмендегідей жасағанда, осыларды ескеріп, абай болу керек\n",
        "list_copy = list_org"
      ],
      "execution_count": null,
      "outputs": []
    },
    {
      "cell_type": "code",
      "metadata": {
        "id": "ZYENzZexLhzP",
        "colab": {
          "base_uri": "https://localhost:8080/"
        },
        "outputId": "2519063b-4737-40d3-d7a7-c4af7d678b26"
      },
      "source": [
        "# мысалы қазір көшірмесін өзгертсек, өзгеріс түпнұсқасында да болады\n",
        "list_copy.append(True)\n",
        "print('list_copy',list_copy)\n",
        "print('list_org ', list_org)"
      ],
      "execution_count": null,
      "outputs": [
        {
          "output_type": "stream",
          "text": [
            "list_copy ['banana', 'cherry', 'apple', True]\n",
            "list_org  ['banana', 'cherry', 'apple', True]\n"
          ],
          "name": "stdout"
        }
      ]
    },
    {
      "cell_type": "code",
      "metadata": {
        "colab": {
          "base_uri": "https://localhost:8080/"
        },
        "id": "T5UGy0Lydyc8",
        "outputId": "0e1e93a0-6a31-4fad-fa34-5e049469756e"
      },
      "source": [
        "# тағы бір мысалы\n",
        "list_org.remove(True)\n",
        "print('list_copy',list_copy)\n",
        "print('list_org ', list_org)\n",
        "# қосқан True-мыз жойылды"
      ],
      "execution_count": null,
      "outputs": [
        {
          "output_type": "stream",
          "text": [
            "list_copy ['banana', 'cherry', 'apple']\n",
            "list_org  ['banana', 'cherry', 'apple']\n"
          ],
          "name": "stdout"
        }
      ]
    },
    {
      "cell_type": "code",
      "metadata": {
        "id": "imnNJqMLL7qJ",
        "colab": {
          "base_uri": "https://localhost:8080/"
        },
        "outputId": "78ba3d8b-0315-4125-840a-cfbcab05db5a"
      },
      "source": [
        "# сондықтан copy() немесе list(x) амалын көшірме жасау үшін қолданамыз\n",
        "# кесудіде қолдансақ болады: list_copy = list_org[:]\n",
        "list_org = [\"banana\", \"cherry\", \"apple\"]\n",
        "\n",
        "list_copy = list_org.copy()\n",
        "# list_copy = list(list_org)\n",
        "# list_copy = list_org[:]\n",
        "\n",
        "# енді алдындағы сияқты біреуін өзгертсек, ол ешқалай екіншісіне әсер етпейді\n",
        "list_copy.append(True)\n",
        "print(list_copy)\n",
        "print(list_org)"
      ],
      "execution_count": null,
      "outputs": [
        {
          "output_type": "stream",
          "text": [
            "['banana', 'cherry', 'apple', True]\n",
            "['banana', 'cherry', 'apple']\n"
          ],
          "name": "stdout"
        }
      ]
    },
    {
      "cell_type": "markdown",
      "metadata": {
        "id": "iNN4tnSifbp0"
      },
      "source": [
        "# Итерация, тізім бойымен жүгіру (қайталау, цикл)"
      ]
    },
    {
      "cell_type": "code",
      "metadata": {
        "colab": {
          "base_uri": "https://localhost:8080/"
        },
        "id": "v-ZYo4zVfOZs",
        "outputId": "58dd37fc-320a-46be-afd7-81f0e0402c2c"
      },
      "source": [
        "# Цикл арқылы тізім бойымен жүгіре аламыз\n",
        "for i in list_1:\n",
        "  print(i)"
      ],
      "execution_count": null,
      "outputs": [
        {
          "output_type": "stream",
          "text": [
            "1\n",
            "eki\n",
            "3\n",
            "4\n",
            "5\n",
            "6\n",
            "7\n",
            "lemon\n",
            "9\n",
            "10\n"
          ],
          "name": "stdout"
        }
      ]
    },
    {
      "cell_type": "markdown",
      "metadata": {
        "id": "4drvb0pNfx_W"
      },
      "source": [
        "# Тізімнің ішінде бір заттың бар жоғын тексере аламыз"
      ]
    },
    {
      "cell_type": "code",
      "metadata": {
        "colab": {
          "base_uri": "https://localhost:8080/"
        },
        "id": "DO0aSnKdf3bb",
        "outputId": "e53157ae-12b0-42b4-f63c-4f5d2b4f7b1f"
      },
      "source": [
        "list_1 = ['banana', 'cherry', 'lemon']\n",
        "if \"banana\" in list_1:\n",
        "    print(\"yes\")\n",
        "else:\n",
        "    print(\"no\")\n",
        "\n",
        "print('------')\n",
        "print('cherry' in list_1)\n",
        "print('Qaz' in list_1)"
      ],
      "execution_count": null,
      "outputs": [
        {
          "output_type": "stream",
          "text": [
            "yes\n",
            "------\n",
            "True\n",
            "False\n"
          ],
          "name": "stdout"
        }
      ]
    },
    {
      "cell_type": "markdown",
      "metadata": {
        "id": "HNrd_alZMcXJ"
      },
      "source": [
        "# Кесу"
      ]
    },
    {
      "cell_type": "code",
      "metadata": {
        "id": "l-k-GKxSMdxp",
        "colab": {
          "base_uri": "https://localhost:8080/"
        },
        "outputId": "c0e336d3-b8e3-4746-de84-258c853c5b48"
      },
      "source": [
        "# a[басы:аяғы:қадам], қадамды бермесек, қадам 1 деп есептеледі\n",
        "# 'басы' деген жерге индекс қоямыз(0-ден басталады), 'аяғы' дегенге реттілік бойыншы\n",
        "# яғни 1-ден бастап санаймыз(индекс сияқты 0-ден емес)\n",
        "#   [0, 1, 2, 3, 4, 5, 6, 7, 8, 9]\n",
        "a = [1, 2, 3, 4, 5, 6, 7, 8, 9, 10]\n",
        "b = a[5:8] # байқасаңыз соңғы индекс енгізілмеген\n",
        "print(b)"
      ],
      "execution_count": null,
      "outputs": [
        {
          "output_type": "stream",
          "text": [
            "[6, 7, 8]\n"
          ],
          "name": "stdout"
        }
      ]
    },
    {
      "cell_type": "code",
      "metadata": {
        "id": "Wjt8HsK3NUEL",
        "colab": {
          "base_uri": "https://localhost:8080/"
        },
        "outputId": "6f8c23ff-916a-4de5-eb5b-682cc41ec877"
      },
      "source": [
        "b = a[2:] # 3-інші тұрған саннан бастап соңына дейін\n",
        "print(b)"
      ],
      "execution_count": null,
      "outputs": [
        {
          "output_type": "stream",
          "text": [
            "[3, 4, 5, 6, 7, 8, 9, 10]\n"
          ],
          "name": "stdout"
        }
      ]
    },
    {
      "cell_type": "code",
      "metadata": {
        "colab": {
          "base_uri": "https://localhost:8080/"
        },
        "id": "c-IataX8NdwE",
        "outputId": "134f415f-84ca-4fcf-e92c-e318b6f35531"
      },
      "source": [
        "b = a[:5] # басынан бастап 5-інші тұрған санға дейін(5-інші санда кіреді аралыққа)\n",
        "print(b)"
      ],
      "execution_count": null,
      "outputs": [
        {
          "output_type": "stream",
          "text": [
            "[1, 2, 3, 4, 5]\n"
          ],
          "name": "stdout"
        }
      ]
    },
    {
      "cell_type": "code",
      "metadata": {
        "colab": {
          "base_uri": "https://localhost:8080/"
        },
        "id": "rU3hWxMDiEXc",
        "outputId": "65a8075b-569a-4fe9-962b-eadb506f4732"
      },
      "source": [
        "a[0:3] = [0] # тізім ішіндегі аралықтарды ауыстыра аламыз\n",
        "print(a)"
      ],
      "execution_count": null,
      "outputs": [
        {
          "output_type": "stream",
          "text": [
            "[0, 4, 5, 6, 7, 8, 9, 10]\n"
          ],
          "name": "stdout"
        }
      ]
    },
    {
      "cell_type": "code",
      "metadata": {
        "colab": {
          "base_uri": "https://localhost:8080/"
        },
        "id": "QBUE7xiliJ0n",
        "outputId": "03dc64cf-684f-4649-d305-8712d30311d3"
      },
      "source": [
        "a = [1, 2, 3, 4, 5, 6, 7, 8, 9, 10]\n",
        "b = a[::2] # басынан бастап аяғына дейінгі әр екінші элементті шығарамыз\n",
        "print(b)\n",
        "b = a[::4] # басынан бастап аяғына дейінгі әр төртінші элементті шығарамыз\n",
        "print(b)"
      ],
      "execution_count": null,
      "outputs": [
        {
          "output_type": "stream",
          "text": [
            "[1, 3, 5, 7, 9]\n",
            "[1, 5, 9]\n"
          ],
          "name": "stdout"
        }
      ]
    },
    {
      "cell_type": "code",
      "metadata": {
        "colab": {
          "base_uri": "https://localhost:8080/"
        },
        "id": "GLjrfk7XNmuK",
        "outputId": "a7c5bbcc-4cf8-4c07-d2ff-a78266abf73e"
      },
      "source": [
        "a = a[::-1] # қадамда теріс сан қолдану арқылы біз тізімді reverse() сияқты аудара аламыз\n",
        "print(a)"
      ],
      "execution_count": null,
      "outputs": [
        {
          "output_type": "stream",
          "text": [
            "[10, 9, 8, 7, 6, 5, 4, 3, 2, 1]\n"
          ],
          "name": "stdout"
        }
      ]
    },
    {
      "cell_type": "code",
      "metadata": {
        "colab": {
          "base_uri": "https://localhost:8080/"
        },
        "id": "Flo0vw9NiyWi",
        "outputId": "1e6aeff5-9fd6-4c3c-d0d9-a807a5f70c7f"
      },
      "source": [
        "b = a[:] # кесу арқылы біз тізімнің жеке дара көшірмесін жасасақ болады\n",
        "print(b)"
      ],
      "execution_count": null,
      "outputs": [
        {
          "output_type": "stream",
          "text": [
            "[10, 9, 8, 7, 6, 5, 4, 3, 2, 1]\n"
          ],
          "name": "stdout"
        }
      ]
    },
    {
      "cell_type": "markdown",
      "metadata": {
        "id": "TWnhonG6jH6K"
      },
      "source": [
        "# Тізім арқылы ықшам жаза аламыз"
      ]
    },
    {
      "cell_type": "code",
      "metadata": {
        "colab": {
          "base_uri": "https://localhost:8080/"
        },
        "id": "6pbb_ei9jOYC",
        "outputId": "2ebd1766-1889-4af1-afa6-e4d0ccde820b"
      },
      "source": [
        "a = [1, 2, 3, 4, 5, 6, 7, 8]\n",
        "b = []\n",
        "for i in a:\n",
        "    b.append(i)\n",
        "print(b)\n",
        "\n",
        "# осылай істегеннің орнына\n",
        "c = [i for i in a] # деп жазсақ болады\n",
        "print(c)\n",
        "\n",
        "a = [1, 2, 3, 4, 5, 6, 7, 8]\n",
        "b = [i * i for i in a] # сандардың квадратын тауып, тізімге енгізе аламыз\n",
        "# осы сияқты кез келген амал жасасақ болады\n",
        "print(b)"
      ],
      "execution_count": null,
      "outputs": [
        {
          "output_type": "stream",
          "text": [
            "[1, 2, 3, 4, 5, 6, 7, 8]\n",
            "[1, 2, 3, 4, 5, 6, 7, 8]\n",
            "[1, 4, 9, 16, 25, 36, 49, 64]\n"
          ],
          "name": "stdout"
        }
      ]
    },
    {
      "cell_type": "code",
      "metadata": {
        "colab": {
          "base_uri": "https://localhost:8080/"
        },
        "id": "QJW_zCN7j4Zc",
        "outputId": "31b93400-a0ba-41dc-fd62-d48a304947dd"
      },
      "source": [
        "# тағы бір мысалы\n",
        "radiuses = [2, 3, 4, 5, 6, 7, 8, 9, 10, 11, 12] # мысалы мында радиустар сақтаулы\n",
        "pi = 3.14\n",
        "\n",
        "# кәз біз радиустар арқылы шеңберлердің ауданын табамыз\n",
        "S = [pi*r**2 for r in radiuses]\n",
        "\n",
        "print(radiuses)\n",
        "print(S)"
      ],
      "execution_count": null,
      "outputs": [
        {
          "output_type": "stream",
          "text": [
            "[2, 3, 4, 5, 6, 7, 8, 9, 10, 11, 12]\n",
            "[12.56, 28.26, 50.24, 78.5, 113.04, 153.86, 200.96, 254.34, 314.0, 379.94, 452.16]\n"
          ],
          "name": "stdout"
        }
      ]
    },
    {
      "cell_type": "code",
      "metadata": {
        "colab": {
          "base_uri": "https://localhost:8080/"
        },
        "id": "8eeW57K_kgSU",
        "outputId": "2fc39ed2-d151-4a5c-e7b5-1e9e5eb82dc5"
      },
      "source": [
        "# Шартты операторларды да қолдана аламыз\n",
        "nums = [0, 1, 2, 3, 4, 5, 6, 7, 8, 9, 10]\n",
        "\n",
        "# давайте тек жұп сандарды жаңа тізімге сақтап алайық\n",
        "even_nums = [n for n in nums if n % 2 == 0 and n != 0]\n",
        "print(even_nums)"
      ],
      "execution_count": null,
      "outputs": [
        {
          "output_type": "stream",
          "text": [
            "[2, 4, 6, 8, 10]\n"
          ],
          "name": "stdout"
        }
      ]
    },
    {
      "cell_type": "code",
      "metadata": {
        "colab": {
          "base_uri": "https://localhost:8080/"
        },
        "id": "-Dvd2bn6lv92",
        "outputId": "41babbc9-632f-4d09-96d2-4195f385f2c7"
      },
      "source": [
        "# тағы бір мысал, давайте жұп сандарды 1-ге, ал тақ сандарды 0-ге айналдырайық\n",
        "nums = [1, 2, 3, 4, 5, 6, 7, 8, 9, 10]\n",
        "\n",
        "new_nums = [1 if n % 2 == 0 else 0 for n in nums]\n",
        "print(new_nums)"
      ],
      "execution_count": null,
      "outputs": [
        {
          "output_type": "stream",
          "text": [
            "[0, 1, 0, 1, 0, 1, 0, 1, 0, 1]\n"
          ],
          "name": "stdout"
        }
      ]
    },
    {
      "cell_type": "markdown",
      "metadata": {
        "id": "1lJGEWA7lUvN"
      },
      "source": [
        "# Бірнеше не одан да көп деңгейлі тізім жасай аламыз"
      ]
    },
    {
      "cell_type": "code",
      "metadata": {
        "colab": {
          "base_uri": "https://localhost:8080/"
        },
        "id": "Fa7mVYuOlWYb",
        "outputId": "29664abc-878b-4370-9adb-ef2b25c36452"
      },
      "source": [
        "a = [[1, 2], [3, 4, [9, 2, 3]]]\n",
        "print(a)\n",
        "print(a[0])\n",
        "print(a[1])\n",
        "print(a[1][2])"
      ],
      "execution_count": null,
      "outputs": [
        {
          "output_type": "stream",
          "text": [
            "[[1, 2], [3, 4, [9, 2, 3]]]\n",
            "[1, 2]\n",
            "[3, 4, [9, 2, 3]]\n",
            "[9, 2, 3]\n"
          ],
          "name": "stdout"
        }
      ]
    },
    {
      "cell_type": "markdown",
      "metadata": {
        "id": "te_B-3MBn7Jn"
      },
      "source": [
        "# **Кортеж**\n",
        "\n",
        "Бұның енді тізімнен ерекшелігі бұл өзгертілмейді, яғни басында қалай жасалды, солай қалады. Не жаңа элемент қоса алмаймыз, не ішінен өшіре алмаймыз."
      ]
    },
    {
      "cell_type": "markdown",
      "metadata": {
        "id": "Ig225edioolm"
      },
      "source": [
        "# Кортеж жасау"
      ]
    },
    {
      "cell_type": "code",
      "metadata": {
        "colab": {
          "base_uri": "https://localhost:8080/"
        },
        "id": "8SrnpvLDoZdm",
        "outputId": "974c382e-62c9-42cc-d962-83fbd04a0d7d"
      },
      "source": [
        "tuple_1 = (\"Max\", 28, \"New York\")\n",
        "tuple_2 = \"Linda\", 25, \"Miami\" # Жақша міндетті емес\n",
        "\n",
        "# егер жалғыз элемент ғана болса міндетті түрде үтір қою керек соңына\n",
        "# әйтпесе ол кортеж емес сол элементтің типі болады\n",
        "\n",
        "# мысалы\n",
        "tuple_3_0 = (25) # үтір жоқ\n",
        "print(type(tuple_3_0)) # типі int болады\n",
        "\n",
        "tuple_3 = (25,) # ал былай үтір қойсақ, бәрі дұрыс, кортеж болады\n",
        "print(type(tuple_3)) # типі tuple дейді\n",
        "\n",
        "print(tuple_1)\n",
        "print(tuple_2)\n",
        "print(tuple_3)"
      ],
      "execution_count": null,
      "outputs": [
        {
          "output_type": "stream",
          "text": [
            "<class 'int'>\n",
            "<class 'tuple'>\n",
            "('Max', 28, 'New York')\n",
            "('Linda', 25, 'Miami')\n",
            "(25,)\n"
          ],
          "name": "stdout"
        }
      ]
    },
    {
      "cell_type": "code",
      "metadata": {
        "colab": {
          "base_uri": "https://localhost:8080/"
        },
        "id": "4tPDwcNmp1oV",
        "outputId": "a2865380-075b-4c8d-cdf7-5e837278fdf8"
      },
      "source": [
        "# List(тізім) немесе string типіндегі деректерді кортежға конвертация жасай аламыз\n",
        "tuple_4 = tuple([1,2,3])\n",
        "print(tuple_4)\n",
        "tuple_5 = tuple('Hello, World!')\n",
        "print(tuple_5)"
      ],
      "execution_count": null,
      "outputs": [
        {
          "output_type": "stream",
          "text": [
            "(1, 2, 3)\n",
            "('H', 'e', 'l', 'l', 'o', ',', ' ', 'W', 'o', 'r', 'l', 'd', '!')\n"
          ],
          "name": "stdout"
        }
      ]
    },
    {
      "cell_type": "markdown",
      "metadata": {
        "id": "FWCv5T0EqZQ2"
      },
      "source": [
        "# Кортеждің элементтерін(ішінде сақталып тұрған деректерді) индексі арқылы ала аласыз. Есте болсын индекс нөлден басталады."
      ]
    },
    {
      "cell_type": "code",
      "metadata": {
        "colab": {
          "base_uri": "https://localhost:8080/"
        },
        "id": "dAT79CnwqkOs",
        "outputId": "267a4c6e-584f-49ec-f69d-978a72da1c4d"
      },
      "source": [
        "item = tuple_1[0]\n",
        "print(item)\n",
        "\n",
        "# сонымен қатар теріс сандарды индекс ретінде қолдансақ болады, \n",
        "# соңғы санды алу үшін -1, ал соңынан санағанда екінші тұрған элементті\n",
        "# алғымыз келсе -2 дейміз, солай кете береді\n",
        "\n",
        "item = tuple_1[-1]\n",
        "print(item)"
      ],
      "execution_count": null,
      "outputs": [
        {
          "output_type": "stream",
          "text": [
            "Max\n",
            "New York\n"
          ],
          "name": "stdout"
        }
      ]
    },
    {
      "cell_type": "markdown",
      "metadata": {
        "id": "y8bfCunTrKoL"
      },
      "source": [
        "# Элементтер қосу немесе өзгерту\n",
        "Мүмкін емес"
      ]
    },
    {
      "cell_type": "code",
      "metadata": {
        "colab": {
          "base_uri": "https://localhost:8080/",
          "height": 163
        },
        "id": "Ecgtn6G2rTK6",
        "outputId": "f1fab2d3-126e-4e2f-e53a-91fbcc84b199"
      },
      "source": [
        "tuple_1[2] = \"Boston\""
      ],
      "execution_count": null,
      "outputs": [
        {
          "output_type": "error",
          "ename": "TypeError",
          "evalue": "ignored",
          "traceback": [
            "\u001b[0;31m---------------------------------------------------------------------------\u001b[0m",
            "\u001b[0;31mTypeError\u001b[0m                                 Traceback (most recent call last)",
            "\u001b[0;32m<ipython-input-119-c391d8981369>\u001b[0m in \u001b[0;36m<module>\u001b[0;34m()\u001b[0m\n\u001b[0;32m----> 1\u001b[0;31m \u001b[0mtuple_1\u001b[0m\u001b[0;34m[\u001b[0m\u001b[0;36m2\u001b[0m\u001b[0;34m]\u001b[0m \u001b[0;34m=\u001b[0m \u001b[0;34m\"Boston\"\u001b[0m\u001b[0;34m\u001b[0m\u001b[0;34m\u001b[0m\u001b[0m\n\u001b[0m",
            "\u001b[0;31mTypeError\u001b[0m: 'tuple' object does not support item assignment"
          ]
        }
      ]
    },
    {
      "cell_type": "markdown",
      "metadata": {
        "id": "_t_sYHY6rZXQ"
      },
      "source": [
        "# Кортежді жою"
      ]
    },
    {
      "cell_type": "code",
      "metadata": {
        "id": "1eTEDQLGrcm5"
      },
      "source": [
        "del tuple_2"
      ],
      "execution_count": null,
      "outputs": []
    },
    {
      "cell_type": "markdown",
      "metadata": {
        "id": "25xQy5vVrqKc"
      },
      "source": [
        "# Итерация, кортеж бойымен жүгіре аламыз"
      ]
    },
    {
      "cell_type": "code",
      "metadata": {
        "colab": {
          "base_uri": "https://localhost:8080/"
        },
        "id": "gS_fU7t_ruse",
        "outputId": "2b939db8-c284-4fb4-c84e-87c50de63b30"
      },
      "source": [
        "for i in tuple_1:\n",
        "    print(i)"
      ],
      "execution_count": null,
      "outputs": [
        {
          "output_type": "stream",
          "text": [
            "Max\n",
            "28\n",
            "New York\n"
          ],
          "name": "stdout"
        }
      ]
    },
    {
      "cell_type": "markdown",
      "metadata": {
        "id": "gGYi9yNusB-U"
      },
      "source": [
        "# Кортежда бір заттың бар-жоғын тексере аламыз"
      ]
    },
    {
      "cell_type": "code",
      "metadata": {
        "colab": {
          "base_uri": "https://localhost:8080/"
        },
        "id": "0FyjcMi5sGV_",
        "outputId": "b79a396e-bc86-4524-b990-831641e2c7bf"
      },
      "source": [
        "if \"New York\" in tuple_1:\n",
        "    print(\"yes\")\n",
        "else:\n",
        "    print(\"no\")"
      ],
      "execution_count": null,
      "outputs": [
        {
          "output_type": "stream",
          "text": [
            "yes\n"
          ],
          "name": "stdout"
        }
      ]
    },
    {
      "cell_type": "markdown",
      "metadata": {
        "id": "q5Wl-gQpsMXb"
      },
      "source": [
        "# Пайдалы методтар(функциялар)"
      ]
    },
    {
      "cell_type": "code",
      "metadata": {
        "colab": {
          "base_uri": "https://localhost:8080/"
        },
        "id": "M2ReYiCDsXPA",
        "outputId": "3d27b93f-923e-45a1-8128-660574e36567"
      },
      "source": [
        "my_tuple = ('a','p','p','l','e',)\n",
        "\n",
        "# len() : кортеж ішіндегі элементтердің санын қайтарады\n",
        "print(len(my_tuple))\n",
        "\n",
        "# count(x) : бір заттың кортеж ішіндегі санын санап береді, айтпақшы бұл тізімде де қолданылады\n",
        "print(my_tuple.count('p'))\n",
        "\n",
        "# index(x) : бір заттың кортеж ішіндегі индексін(ретін) тауып береді, ол бірінші тұрса нөлді қайтарады\n",
        "# бұлда тізімде қолданылады, жалпы кортежда бар барлық функциялар тізімде бар\n",
        "print(my_tuple.index('l'))\n",
        "\n",
        "# еселеп үлкейту\n",
        "my_tuple = ('a', 'b') * 5\n",
        "print(my_tuple)\n",
        "\n",
        "# біріктіру\n",
        "my_tuple = (1,2,3) + (4,5,6)\n",
        "print(my_tuple)\n",
        "\n",
        "# тізімді кортежға айналдыру және керісінше\n",
        "my_list = ['a', 'b', 'c', 'd']\n",
        "list_to_tuple = tuple(my_list)\n",
        "print(list_to_tuple)\n",
        "tuple_to_list = list(list_to_tuple)\n",
        "print(tuple_to_list)\n",
        "\n",
        "# сөзді кортежға айналдыру символдарын бөлу\n",
        "string_to_tuple = tuple('Hello')\n",
        "print(string_to_tuple)"
      ],
      "execution_count": null,
      "outputs": [
        {
          "output_type": "stream",
          "text": [
            "5\n",
            "2\n",
            "3\n",
            "('a', 'b', 'a', 'b', 'a', 'b', 'a', 'b', 'a', 'b')\n",
            "(1, 2, 3, 4, 5, 6)\n",
            "('a', 'b', 'c', 'd')\n",
            "['a', 'b', 'c', 'd']\n",
            "('H', 'e', 'l', 'l', 'o')\n"
          ],
          "name": "stdout"
        }
      ]
    },
    {
      "cell_type": "markdown",
      "metadata": {
        "id": "siamMB-5tsGx"
      },
      "source": [
        "# Кесу"
      ]
    },
    {
      "cell_type": "code",
      "metadata": {
        "colab": {
          "base_uri": "https://localhost:8080/"
        },
        "id": "PR2Qj0Uhttzs",
        "outputId": "c85c09df-a640-4156-9811-2693cfad9aa0"
      },
      "source": [
        "# a[басы:аяғы:қадам], қадам бастапқы мән ретінде 1 болып тұрады\n",
        "a = (1, 2, 3, 4, 5, 6, 7, 8, 9, 10)\n",
        "b = a[2:7] # үшінші саннан жетінші санға дейінгі сандарды шығарамыз\n",
        "print(b)\n",
        "b = a[2:] # үшінші саннан соңына дейін\n",
        "print(b)\n",
        "b = a[:3] # басынан үшінші санға дейін, үшінші санда аралыққа кіреді\n",
        "print(b)\n",
        "b = a[::2] # басынан аяғына дейінгі әр екінші сан\n",
        "print(b)\n",
        "b = a[::-1] # кортежды кері аударсақ болады\n",
        "print(b)"
      ],
      "execution_count": null,
      "outputs": [
        {
          "output_type": "stream",
          "text": [
            "(3, 4, 5, 6, 7)\n",
            "(3, 4, 5, 6, 7, 8, 9, 10)\n",
            "(1, 2, 3)\n",
            "(1, 3, 5, 7, 9)\n",
            "(10, 9, 8, 7, 6, 5, 4, 3, 2, 1)\n"
          ],
          "name": "stdout"
        }
      ]
    },
    {
      "cell_type": "markdown",
      "metadata": {
        "id": "Hwz4kwrVuvS4"
      },
      "source": [
        "# Кортежды пайдалану"
      ]
    },
    {
      "cell_type": "code",
      "metadata": {
        "colab": {
          "base_uri": "https://localhost:8080/"
        },
        "id": "8qOCNivTusUO",
        "outputId": "e0c68866-4d90-494c-aa11-dbc18fc2a51b"
      },
      "source": [
        "# айнымалылар мөлшері кортеждағы элементтер санымен бірдей болу керек\n",
        "tuple_1 = (\"Muqammedali\", 28, \"New York\", True, \"Qazaq\", 178, 78)\n",
        "name, age, city, married, nationality, height, weight = tuple_1\n",
        "print(name)\n",
        "print(age)\n",
        "print(city)\n",
        "print(married)\n",
        "print(nationality)\n",
        "print(height)\n",
        "print(weight)\n",
        "\n",
        "print('------------')\n",
        "\n",
        "# кортеждың ортасындағы аралықты * - арқылы тізімге сақтап алсақ болады\n",
        "my_tuple = (0, 1, 2, 3, 4, 5)\n",
        "item_first, *items_between, item_last = my_tuple\n",
        "print(item_first)\n",
        "print(items_between)\n",
        "print(item_last)"
      ],
      "execution_count": null,
      "outputs": [
        {
          "output_type": "stream",
          "text": [
            "Muqammedali\n",
            "28\n",
            "New York\n",
            "True\n",
            "Qazaq\n",
            "178\n",
            "78\n",
            "------------\n",
            "0\n",
            "[1, 2, 3, 4]\n",
            "5\n"
          ],
          "name": "stdout"
        }
      ]
    },
    {
      "cell_type": "markdown",
      "metadata": {
        "id": "9wzebPyNxLTP"
      },
      "source": [
        "Бірнеше не одан да көп деңгейлі кортеж жасай аламыз"
      ]
    },
    {
      "cell_type": "code",
      "metadata": {
        "colab": {
          "base_uri": "https://localhost:8080/"
        },
        "id": "Go64LUwJxNUy",
        "outputId": "5d5b55f6-4e21-40b1-d78d-4524f94a209e"
      },
      "source": [
        "a = ((0, 1), ('age', 'height'))\n",
        "print(a)\n",
        "print(a[0])"
      ],
      "execution_count": null,
      "outputs": [
        {
          "output_type": "stream",
          "text": [
            "((0, 1), ('age', 'height'))\n",
            "(0, 1)\n"
          ],
          "name": "stdout"
        }
      ]
    },
    {
      "cell_type": "markdown",
      "metadata": {
        "id": "hYQzjBsfxSzB"
      },
      "source": [
        "# **Кортеж бен тізімді салыстырып көрейік**"
      ]
    },
    {
      "cell_type": "code",
      "metadata": {
        "colab": {
          "base_uri": "https://localhost:8080/"
        },
        "id": "vAqpBKUBxZTp",
        "outputId": "aad5eb44-e046-4c7e-e34b-7d12ca7e809d"
      },
      "source": [
        "# қаншалықты жады алады екен, соны салыстырайық\n",
        "import sys\n",
        "my_list = [0, 1, 2, \"hello\", True]\n",
        "my_tuple = (0, 1, 2, \"hello\", True)\n",
        "print('Тізім алатын жады:  ', sys.getsizeof(my_list), \"bytes\")\n",
        "print('Кортеж алатын жады: ', sys.getsizeof(my_tuple), \"bytes\")\n",
        "\n",
        "# тізімнің және кортеждың жасалу жылдамдығын салыстырайық\n",
        "import timeit\n",
        "print('Тізімнің құралу уақыты: ', timeit.timeit(stmt=\"[0, 1, 2, 3, 4, 5]\", number=1000000))\n",
        "print('Кортеждың құралу уақыты:', timeit.timeit(stmt=\"(0, 1, 2, 3, 4, 5)\", number=1000000))"
      ],
      "execution_count": null,
      "outputs": [
        {
          "output_type": "stream",
          "text": [
            "Тізім алатын жады:   112 bytes\n",
            "Кортеж алатын жады:  96 bytes\n",
            "Тізімнің құралу уақыты:  0.08696735800003808\n",
            "Кортеждың құралу уақыты: 0.014058132999707595\n"
          ],
          "name": "stdout"
        }
      ]
    }
  ]
}